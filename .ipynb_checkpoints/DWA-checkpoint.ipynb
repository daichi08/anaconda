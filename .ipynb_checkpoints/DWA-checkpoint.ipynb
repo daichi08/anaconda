{
 "cells": [
  {
   "cell_type": "code",
   "execution_count": 5,
   "metadata": {},
   "outputs": [
    {
     "name": "stdout",
     "output_type": "stream",
     "text": [
      "182.86686372756958\n"
     ]
    }
   ],
   "source": [
    "#! /usr/bin/env python\n",
    "# -*- coding: utf-8 -*-\n",
    "\n",
    "import numpy as np\n",
    "import itertools as it\n",
    "import time\n",
    "import numba\n",
    "from sklearn import preprocessing\n",
    "mm = preprocessing.MinMaxScaler()\n",
    "\n",
    "def calcXiDS(xiDataSet, times, dt):\n",
    "    for t in range(times):                                                                                   \n",
    "        xiDataSet = np.array([A.dot(xi)+calcB(dt, xi[2]).dot(voDataSet[i]) for i,xi in enumerate(xiDataSet)])\n",
    "    return xiDataSet\n",
    "\n",
    "def calcB(dt, theta):\n",
    "    B = np.array([[dt*np.cos(theta),  0],\n",
    "                  [dt*np.sin(theta),  0],\n",
    "                  [0               , dt],\n",
    "                  [1               ,  0],\n",
    "                  [0               ,  1]])\n",
    "    return B\n",
    "\n",
    "if __name__ == '__main__':\n",
    "    start = time.time()\n",
    "    # パラメータの宣言\n",
    "    R = np.deg2rad(0.0036)\n",
    "    r = 0.15/2\n",
    "    d = 0.66/2\n",
    "    # 初期状態の宣言\n",
    "    xi = np.array([[0], [0], [np.pi/2], [0], [0]])\n",
    "    u  = np.array([[0], [0]])\n",
    "    # DWA用変数\n",
    "    model = [1, np.deg2rad(60), 10, np.deg2rad(120), 0.1, np.deg2rad(1)]\n",
    "    obstR = 0.8\n",
    "    Vw    = 0.05\n",
    "    Aw    = 1\n",
    "    Ow    = 0.5\n",
    "    sampT = 3\n",
    "    calcT = 0.1\n",
    "    # その他\n",
    "    A = np.array([[1, 0, 0, 0, 0],\n",
    "                  [0, 1, 0, 0, 0],\n",
    "                  [0, 0, 1, 0, 0],\n",
    "                  [0, 0, 0, 0, 0],\n",
    "                  [0, 0, 0, 0, 0]])\n",
    "    LRFRange = 4\n",
    "    dt = 0.05\n",
    "    N = 1000 # 消す\n",
    "    goal = np.array([10, 10]) # 消す\n",
    "    obst = np.array([[3, 3],[10, 10]]) # 消す\n",
    "    \n",
    "    for N in range(N):\n",
    "        ## データセット生成\n",
    "        vData = np.arange(np.max([xi[3]-model[2]*dt, -model[0]]), np.min([xi[3]+model[2]*dt,  model[0]])+model[4], model[4])\n",
    "        oData = np.arange(np.max([xi[4]-model[3]*dt, -model[1]]), np.min([xi[4]+model[3]*dt,  model[1]])+model[5], model[5])\n",
    "        voDataSet = np.array(list(it.product(vData, oData)))\n",
    "        ## 評価値等の準備\n",
    "        dataSize  = voDataSet.shape[0]\n",
    "        evalO     = 2*np.ones((dataSize, 1))\n",
    "        xiDataSet = calcXiDS(np.tile(np.reshape(xi.T,(-1)),(dataSize,1)), int(sampT/calcT), calcT)\n",
    "        angle = np.reshape(np.arctan2(goal[1]-xiDataSet[:,1],goal[0]-xiDataSet[:,0])-xiDataSet[:,2],(dataSize,1))\n",
    "        evalV = mm.fit_transform(np.reshape(voDataSet[:,0],(dataSize,1)))\n",
    "        evalA = mm.fit_transform(np.pi-abs(angle-2*np.pi*np.round(angle/(2*np.pi))))\n",
    "        evalO = mm.fit_transform(evalO)\n",
    "        evalSum = Vw*evalV + Aw*evalA + Ow*evalO\n",
    "        u = np.reshape(voDataSet[evalSum.argmax()],(2,1))\n",
    "        xi = A.dot(xi)+calcB(dt, (np.reshape(xi,(-1))[2])).dot(u)\n",
    "        # print(xi.T)\n",
    "\n",
    "    ft = time.time()-start\n",
    "    print(ft)"
   ]
  },
  {
   "cell_type": "code",
   "execution_count": null,
   "metadata": {},
   "outputs": [],
   "source": []
  }
 ],
 "metadata": {
  "kernelspec": {
   "display_name": "Python 3",
   "language": "python",
   "name": "python3"
  },
  "language_info": {
   "codemirror_mode": {
    "name": "ipython",
    "version": 3
   },
   "file_extension": ".py",
   "mimetype": "text/x-python",
   "name": "python",
   "nbconvert_exporter": "python",
   "pygments_lexer": "ipython3",
   "version": "3.7.0"
  }
 },
 "nbformat": 4,
 "nbformat_minor": 2
}
