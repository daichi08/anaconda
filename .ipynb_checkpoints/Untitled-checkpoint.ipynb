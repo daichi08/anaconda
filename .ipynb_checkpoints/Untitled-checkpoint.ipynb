{
 "cells": [
  {
   "cell_type": "code",
   "execution_count": 3,
   "metadata": {},
   "outputs": [
    {
     "name": "stdout",
     "output_type": "stream",
     "text": [
      "190.30740880966187\n"
     ]
    }
   ],
   "source": [
    "#! /usr/bin/env python\n",
    "# -*- coding: utf-8 -*-\n",
    "\n",
    "import numpy as np\n",
    "import itertools as it\n",
    "import time\n",
    "import numba\n",
    "from sklearn import preprocessing\n",
    "mm = preprocessing.MinMaxScaler()\n",
    "\n",
    "@numba.jit\n",
    "def calcXiDS(xiDataSet, voDataSet, times, dt):\n",
    "    for i, xiData in enumerate(xiDataSet):\n",
    "        for t in range(times):\n",
    "            B = np.array([[dt*np.cos(xiData[2]),  0],\n",
    "                          [dt*np.sin(xiData[2]),  0],\n",
    "                          [0                   , dt],\n",
    "                          [1                   ,  0],\n",
    "                          [0                   ,  1]])\n",
    "            xiData = np.reshape(A.dot(np.reshape(xiData,(-1)))+B.dot(np.reshape(voDataSet[i],(-1)))*dt,(-1))\n",
    "        xiDataSet[i] = xiData\n",
    "    return xiDataSet\n",
    "\n",
    "if __name__ == '__main__':\n",
    "    start = time.time()\n",
    "    # パラメータの宣言\n",
    "    R = np.deg2rad(0.0036)\n",
    "    r = 0.15/2\n",
    "    d = 0.66/2\n",
    "    # 初期状態の宣言\n",
    "    xi = np.array([[0], [0], [np.pi/2], [0], [0]])\n",
    "    u  = np.zeros((2,1))\n",
    "    # DWA用変数\n",
    "    model = [1, np.deg2rad(60), 10, np.deg2rad(120), 0.1, np.deg2rad(1)]\n",
    "    obstR = 0.8\n",
    "    Vw    = 0.05\n",
    "    Aw    = 1\n",
    "    Ow    = 0.5\n",
    "    sampT = 3\n",
    "    calcT = 0.1\n",
    "    # その他\n",
    "    A = np.array([[1, 0, 0, 0, 0],\n",
    "                  [0, 1, 0, 0, 0],\n",
    "                  [0, 0, 1, 0, 0],\n",
    "                  [0, 0, 0, 0, 0],\n",
    "                  [0, 0, 0, 0, 0]])\n",
    "    LRFRange = 4\n",
    "    dt = 0.05\n",
    "    N = 1 # 消す\n",
    "    goal = np.array([10, 10]) # 消す\n",
    "    obst = np.array([[3, 3],[10, 10]]) # 消す\n",
    "    \n",
    "    for N in range(1000):\n",
    "        ## 速度計算\n",
    "        vMin = np.max([xi[3]-model[2]*dt,  0])\n",
    "        vMax = np.min([xi[3]+model[2]*dt,  model[0]])\n",
    "        oMin = np.max([xi[4]-model[3]*dt, -model[1]])\n",
    "        oMax = np.min([xi[4]+model[3]*dt,  model[1]])\n",
    "        ## データセット生成\n",
    "        vData = np.arange(vMin, vMax+model[4], model[4])\n",
    "        oData = np.arange(oMin, oMax+model[5], model[5])\n",
    "        voDataSet = np.array(list(it.product(vData, oData)))\n",
    "        ## 評価値等の準備\n",
    "        dataSize  = voDataSet.shape[0]\n",
    "        evalO     = 2*np.ones((dataSize, 1))\n",
    "        evalA     = np.zeros((dataSize, 1))\n",
    "        evalV     = np.zeros((dataSize, 1))\n",
    "        xiDataSet = calcXiDS(np.tile(np.reshape(xi.T,(-1)),(dataSize,1)), voDataSet, int(sampT/calcT), calcT)\n",
    "        evalV = mm.fit_transform(np.reshape(voDataSet[:,0],(dataSize,1)))\n",
    "        evalA = mm.fit_transform([np.pi-abs(ea-2*np.pi*np.round(ea/(2*np.pi))) for ea in np.reshape(np.arctan2(goal[1]-xiDataSet[:,1],goal[0]-xiDataSet[:,0])-xiDataSet[:,2],(dataSize,1))])\n",
    "        evalO = mm.fit_transform(evalO)\n",
    "        evalSum = Vw*evalV + Aw*evalA + Ow*evalO\n",
    "        vod = voDataSet[np.where(np.reshape(evalSum,(-1)) == np.max(evalSum))].T\n",
    "        B = np.array([[dt*np.cos(xi.T[0,2]),  0],\n",
    "                      [dt*np.sin(xi.T[0,2]),  0],\n",
    "                      [0                   , dt],\n",
    "                      [1                   ,  0],\n",
    "                      [0                   ,  1]])\n",
    "        xi = A.dot(xi)+B.dot(vod)\n",
    "        # print(xi.T)\n",
    "\n",
    "    ft = time.time()-start\n",
    "    print(ft)"
   ]
  },
  {
   "cell_type": "code",
   "execution_count": 2,
   "metadata": {},
   "outputs": [
    {
     "data": {
      "text/plain": [
       "1"
      ]
     },
     "execution_count": 2,
     "metadata": {},
     "output_type": "execute_result"
    }
   ],
   "source": [
    "1"
   ]
  },
  {
   "cell_type": "code",
   "execution_count": 9,
   "metadata": {},
   "outputs": [],
   "source": [
    "angle = ea"
   ]
  },
  {
   "cell_type": "code",
   "execution_count": 11,
   "metadata": {},
   "outputs": [
    {
     "data": {
      "text/plain": [
       "array([-3., -3., -3., -3., -2., -2., -2., -2., -2., -2., -2., -2., -1.,\n",
       "       -1., -1., -1., -1., -1., -1., -1.,  0.,  0.,  0.,  0.,  0.,  0.,\n",
       "        0.,  0.,  1.,  1.,  1.,  1.,  1.,  1.,  1.,  1.,  2.,  2.,  2.,\n",
       "        2.])"
      ]
     },
     "execution_count": 11,
     "metadata": {},
     "output_type": "execute_result"
    }
   ],
   "source": [
    "np.floor(b/360)"
   ]
  },
  {
   "cell_type": "code",
   "execution_count": null,
   "metadata": {},
   "outputs": [],
   "source": []
  }
 ],
 "metadata": {
  "kernelspec": {
   "display_name": "Python 3",
   "language": "python",
   "name": "python3"
  },
  "language_info": {
   "codemirror_mode": {
    "name": "ipython",
    "version": 3
   },
   "file_extension": ".py",
   "mimetype": "text/x-python",
   "name": "python",
   "nbconvert_exporter": "python",
   "pygments_lexer": "ipython3",
   "version": "3.7.0"
  }
 },
 "nbformat": 4,
 "nbformat_minor": 2
}
