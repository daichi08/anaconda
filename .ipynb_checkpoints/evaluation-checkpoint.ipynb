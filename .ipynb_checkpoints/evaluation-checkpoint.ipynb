{
 "cells": [
  {
   "cell_type": "code",
   "execution_count": 3,
   "metadata": {},
   "outputs": [
    {
     "name": "stdout",
     "output_type": "stream",
     "text": [
      "[2.1431318985078683e-17, 0.35000000000000003, 1.4660765716752369, 0.7000000000000001, -0.20943951023931953]\n",
      "[0.06794350112397478, 0.9964392319893778, 1.2915436464758039, 1.3, -0.3490658503988658]\n",
      "[0.24710778240502423, 1.621259334349285, 1.169370598836201, 1.2999999999999998, -0.2443460952792056]\n",
      "[0.5010830159230519, 2.219587489093371, 1.0733774899765134, 1.2999999999999996, -0.1919862177193753]\n",
      "[0.7873782720788165, 2.74687775669055, 1.021017612416684, 1.1999999999999993, -0.10471975511965836]\n",
      "[0.970252769729398, 3.045301814214482, 0.968657734856855, 0.6999999999999992, -0.10471975511965803]\n",
      "[1.1118543289606058, 3.251333361369986, 0.9250245035569978, 0.5, -0.08726646259971438]\n",
      "[1.232217333591015, 3.411060463379445, 0.8901179185171124, 0.4, -0.06981317007977073]\n",
      "[1.32661539224849, 3.527632357597991, 0.8639379797371989, 0.30000000000000004, -0.05235987755982707]\n",
      "[1.391560197081508, 3.6036729541579944, 0.846484687217257, 0.2, -0.03490658503988378]\n",
      "1.730443000793457\n"
     ]
    }
   ],
   "source": [
    "# made by self\n",
    "from lib import gridmap as gm\n",
    "from lib import makepath as mp\n",
    "from lib import cartrobot as cb\n",
    "\n",
    "import numpy as np\n",
    "import math\n",
    "\n",
    "OBS_W = 0.9\n",
    "VEL_W = 0.3\n",
    "ANG_W = 0.7\n",
    "\n",
    "def normalize(data):\n",
    "    data = np.array(data)\n",
    "    max_data = max(data)\n",
    "    min_data = min(data)\n",
    "\n",
    "    if max_data == min_data:\n",
    "        data = np.array([0.0 for i in range(len(data))])\n",
    "    else:\n",
    "        data = (data - min_data) / (max_data - min_data)\n",
    "\n",
    "    return data\n",
    "\n",
    "def correction_ang(angle):\n",
    "    if angle > math.pi:\n",
    "        while angle > math.pi:\n",
    "            angle -= 2*math.pi\n",
    "    elif angle < -math.pi:\n",
    "        while angle < -math.pi:\n",
    "            angle += 2*math.pi\n",
    "\n",
    "    return np.array(angle)\n",
    "\n",
    "class Evaluator():\n",
    "    def __init__(self):\n",
    "        self.ang_scores = []\n",
    "        self.obs_scores = []\n",
    "        self.vel_scores = []\n",
    "    \n",
    "    def calc_input(self, paths, goal, obstacles):\n",
    "        grid_map, x_min, y_min, grid_size = gm.main(paths, obstacles)\n",
    "\n",
    "        for path in paths:\n",
    "            self.calc_obs_score(path, grid_map, x_min, y_min, grid_size)\n",
    "            self.calc_vel_score(path[0][3])\n",
    "            self.calc_ang_score(path[-1], goal[0], goal[1])\n",
    "\n",
    "        normed_obs_score = normalize(self.obs_scores)\n",
    "        normed_vel_score = normalize(self.vel_scores)\n",
    "        normed_ang_score = normalize(self.ang_scores)\n",
    "        \n",
    "        total_score = OBS_W * normed_obs_score + VEL_W * normed_vel_score + ANG_W * normed_ang_score\n",
    "        best_score_id = np.argmax(total_score)\n",
    "        evaluated_input = paths[best_score_id][-1][3:6]\n",
    "\n",
    "        return evaluated_input, grid_map #本使用ではgrid_map消す      \n",
    "\n",
    "    def calc_obs_score(self, path, grid_map, x_min, y_min, grid_size):\n",
    "        score = 0.0\n",
    "        for (x, y, th, v, o) in path:\n",
    "            x_i = int(round((x-x_min)/grid_size))\n",
    "            y_i = int(round((y-y_min)/grid_size))\n",
    "            if grid_map[x_i][y_i] > score:\n",
    "                score = grid_map[x_i][y_i]\n",
    "        self.obs_scores.append(1-score)\n",
    "\n",
    "    def calc_vel_score(self, v):\n",
    "        self.vel_scores.append(v)\n",
    "    \n",
    "    def calc_ang_score(self, last_status, g_x, g_y):\n",
    "        self.ang_scores.append(\n",
    "            math.pi-abs(\n",
    "                correction_ang(\n",
    "                    math.atan2(g_y-last_status[1], g_x-last_status[1]) - last_status[2]\n",
    "                )\n",
    "            )\n",
    "        )\n",
    "\n",
    "if __name__ == \"__main__\":\n",
    "    import csv\n",
    "    import time\n",
    "    start = time.time()\n",
    "    cartbot = cb.main(0, 0, math.pi/2)\n",
    "    #LRFからのデータに変える\n",
    "    np.random.seed(1)\n",
    "    obstacles = [list((np.random.rand(2)-0.5)*10) for i in range(30)]\n",
    "    goal = [10, 10]\n",
    "\n",
    "    for _ in range(10):\n",
    "        evals = Evaluator()\n",
    "        paths = mp.main(cartbot.status)\n",
    "\n",
    "        inputs, grid_map = evals.calc_input(paths, goal, obstacles)\n",
    "        cartbot.update_status(inputs)\n",
    "        print(cartbot.status)\n",
    "\n",
    "    finished = time.time()-start\n",
    "    print(finished)\n",
    "    \n",
    "    with open(\"gridmap.csv\", \"w\") as file:\n",
    "        write = csv.writer(file, lineterminator=\"\\n\")\n",
    "        write.writerows(grid_map)"
   ]
  },
  {
   "cell_type": "code",
   "execution_count": 6,
   "metadata": {},
   "outputs": [
    {
     "name": "stdout",
     "output_type": "stream",
     "text": [
      "0.0\n"
     ]
    },
    {
     "name": "stderr",
     "output_type": "stream",
     "text": [
      "C:\\Program Files (x86)\\Microsoft Visual Studio\\Shared\\Anaconda3_64\\lib\\site-packages\\ipykernel_launcher.py:21: RuntimeWarning: invalid value encountered in true_divide\n"
     ]
    }
   ],
   "source": []
  },
  {
   "cell_type": "code",
   "execution_count": 8,
   "metadata": {},
   "outputs": [
    {
     "data": {
      "text/plain": [
       "[0.8, -0.20943951023931953]"
      ]
     },
     "execution_count": 8,
     "metadata": {},
     "output_type": "execute_result"
    }
   ],
   "source": []
  },
  {
   "cell_type": "code",
   "execution_count": 33,
   "metadata": {},
   "outputs": [
    {
     "data": {
      "text/plain": [
       "array([[0, 1, 2, 3, 4, 5, 6, 7, 8, 9],\n",
       "       [0, 1, 2, 3, 4, 5, 6, 7, 8, 9],\n",
       "       [0, 1, 2, 3, 4, 5, 6, 7, 8, 9],\n",
       "       [0, 1, 2, 3, 4, 5, 6, 7, 8, 9],\n",
       "       [0, 1, 2, 3, 4, 5, 6, 7, 8, 9],\n",
       "       [0, 1, 2, 3, 4, 5, 6, 7, 8, 9],\n",
       "       [0, 1, 2, 3, 4, 5, 6, 7, 8, 9],\n",
       "       [0, 1, 2, 3, 4, 5, 6, 7, 8, 9],\n",
       "       [0, 1, 2, 3, 4, 5, 6, 7, 8, 9],\n",
       "       [0, 1, 2, 3, 4, 5, 6, 7, 8, 9]])"
      ]
     },
     "execution_count": 33,
     "metadata": {},
     "output_type": "execute_result"
    }
   ],
   "source": [
    "b"
   ]
  },
  {
   "cell_type": "code",
   "execution_count": null,
   "metadata": {},
   "outputs": [],
   "source": []
  }
 ],
 "metadata": {
  "kernelspec": {
   "display_name": "Python 3",
   "language": "python",
   "name": "python3"
  }
 },
 "nbformat": 4,
 "nbformat_minor": 2
}
