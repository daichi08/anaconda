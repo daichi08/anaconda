{
 "cells": [
  {
   "cell_type": "code",
   "execution_count": 8,
   "metadata": {},
   "outputs": [
    {
     "name": "stdout",
     "output_type": "stream",
     "text": [
      "start\n"
     ]
    }
   ],
   "source": [
    "#! /usr/bin/env python\n",
    "# -*- coding: utf-8 -*-\n",
    "\n",
    "import math\n",
    "from scipy.stats import norm\n",
    "\n",
    "AREA_SIZE = 10\n",
    "\n",
    "class precastDB:\n",
    "    def __init__(self, x_p, y_p, dist, angle, x_i, y_i):\n",
    "        self.x_p = x_p\n",
    "        self.y_p = y_p\n",
    "        self.dist = dist\n",
    "        self.angle = angle\n",
    "        self.x_i = x_i\n",
    "        self.y_i = y_i\n",
    "\n",
    "def calc_grid_map(obs_x, obs_y, grid_size):\n",
    "    x_min = round(min(obs_x) - AREA_SIZE/2.0)\n",
    "    y_min = round(min(obs_y) - AREA_SIZE/2.0)\n",
    "    x_max = round(max(obs_x) + AREA_SIZE/2.0)\n",
    "    y_max = round(max(obs_y) + AREA_SIZE/2.0)\n",
    "    x_range = int(round((x_max - x_min)/grid_size))\n",
    "    y_range = int(round((y_max - y_min)/grid_size))\n",
    "    \n",
    "    return x_min, y_min, x_max, y_max, x_range, y_range\n",
    "\n",
    "def atan_zero_to_twopi(x, y):\n",
    "    angle = math.atan2(y, x)\n",
    "    if angle < 0.0:\n",
    "        angle += 2*math.pi\n",
    "        \n",
    "    return angle\n",
    "\n",
    "def precasting(x_min, y_min, x_range, y_range, grid_size, phi_res):\n",
    "    precast = [[] for i in range(int(round(2*math.pi/phi_res))+1)]\n",
    "    \n",
    "    for x_i in range(x_range):\n",
    "        for y_i in range(y_range):\n",
    "            x_p = x_i * grid_size + x_min\n",
    "            y_p = y_i * grid_size + y_min\n",
    "            \n",
    "            dist = math.sqrt(x_p**2 + y_p**2)\n",
    "            angle = atan_zero_to_twopi(x_p, y_p)\n",
    "            angle_id = int(math.floor(angle/phi_res))\n",
    "            \n",
    "            pcd = precastDB(x_p, y_p, dist, angle, x_i, y_i)\n",
    "            \n",
    "            precast[angle_id].append(pcd)\n",
    "    return precast\n",
    "            \n",
    "\n",
    "def ray_casting(obs_x, obs_y, grid_size, phi_res):\n",
    "    x_min, y_min, x_max, y_max, x_range, y_range = calc_grid_map(obs_x, obs_y, grid_size)\n",
    "    precast = precasting(x_min, y_min, x_range, y_range, grid_size, phi_res)\n",
    "    grid_map = [[0.0 for i in range(y_range)] for i in range(x_range)]\n",
    "    \n",
    "    for (x, y) in zip(obs_x, obs_y):\n",
    "        dist = math.sqrt(x**2 + y**2)\n",
    "        angle = atan_zero_to_twopi(x, y)\n",
    "        angle_id = int(math.floor(angle/phi_res))\n",
    "        \n",
    "        grid_list = precast[angle_id]\n",
    "        \n",
    "        x_i = int(round((x-x_min)/grid_size))\n",
    "        y_i = int(round((y-y_min)/grid_size))\n",
    "        \n",
    "        for grid in grid_list:\n",
    "            if grid.dist > dist:\n",
    "                grid_map[grid.x_i][grid.y_i] += 0.5\n",
    "        grid_map[x_i][y_i] += 1\n",
    "    return grid_map, x_min, y_min\n",
    "\n",
    "def main():\n",
    "    grid_size = 0.2 #[m]\n",
    "    phi_res   = 3 * math.pi/180\n",
    "    \n",
    "    for i in range(1): # while rosok\n",
    "        obstacles = [[5,5], [6,9], [8,8], [1,4]] #LRF's point\n",
    "        obs_x = [obs[0] for obs in obstacles]\n",
    "        obs_y = [obs[1] for obs in obstacles]\n",
    "        grid_map, x_min, y_min = ray_casting(obs_x, obs_y, grid_size, phi_res)\n",
    "    return grid_map, x_min, y_min, grid_size\n",
    "\n",
    "if __name__ == \"__main__\":\n",
    "    print(\"start\")\n",
    "    grid_map, x_min, y_min, grid_size = main()\n",
    "    \n",
    "    import csv\n",
    "    with open(\"gridmap.csv\", \"w\") as file:\n",
    "        write = csv.writer(file, lineterminator=\"\\n\")\n",
    "        write.writerows(grid_map)"
   ]
  },
  {
   "cell_type": "code",
   "execution_count": 3,
   "metadata": {},
   "outputs": [],
   "source": [
    "import csv\n",
    "with open(\"data.csv\", \"w\") as file:\n",
    "    write = csv.writer(file, lineterminator=\"\\n\")\n",
    "    write.writerows(grid_map)"
   ]
  },
  {
   "cell_type": "code",
   "execution_count": 6,
   "metadata": {},
   "outputs": [
    {
     "data": {
      "text/plain": [
       "(545, 530)"
      ]
     },
     "execution_count": 6,
     "metadata": {},
     "output_type": "execute_result"
    }
   ],
   "source": [
    "import numpy as np\n",
    "np.array(grid_map).shape"
   ]
  },
  {
   "cell_type": "code",
   "execution_count": null,
   "metadata": {},
   "outputs": [],
   "source": []
  }
 ],
 "metadata": {
  "kernelspec": {
   "display_name": "Python 3",
   "language": "python",
   "name": "python3"
  },
  "language_info": {
   "codemirror_mode": {
    "name": "ipython",
    "version": 3
   },
   "file_extension": ".py",
   "mimetype": "text/x-python",
   "name": "python",
   "nbconvert_exporter": "python",
   "pygments_lexer": "ipython3",
   "version": "3.6.5"
  }
 },
 "nbformat": 4,
 "nbformat_minor": 2
}
