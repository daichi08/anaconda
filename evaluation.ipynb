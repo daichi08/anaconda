{
 "cells": [
  {
   "cell_type": "code",
   "execution_count": 23,
   "metadata": {},
   "outputs": [
    {
     "name": "stdout",
     "output_type": "stream",
     "text": [
      "0.11123895645141602\n"
     ]
    }
   ],
   "source": [
    "# made by self\n",
    "from lib import gridmap as gm\n",
    "from lib import makepath as mp\n",
    "from lib import cartrobot as cb\n",
    "\n",
    "import numpy as np\n",
    "import math\n",
    "\n",
    "\n",
    "def normalize(data):\n",
    "    data = np.array(data)\n",
    "    max_data = max(data)\n",
    "    min_data = min(data)\n",
    "\n",
    "    if max_data == min_data:\n",
    "        data = [0.0 for i in range(len(data))]\n",
    "    else:\n",
    "        data = (data - min_data) / (max_data - min_data)\n",
    "\n",
    "    return data\n",
    "\n",
    "def correction_ang(angle):\n",
    "    if angle > math.pi:\n",
    "        while angle > math.pi:\n",
    "            angle -= 2*math.pi\n",
    "    elif angle < -math.pi:\n",
    "        while angle < -math.pi:\n",
    "            angle += 2*math.pi\n",
    "\n",
    "    return angle\n",
    "\n",
    "class Evaluator():\n",
    "    def __init__(self):\n",
    "        self.ang_scores = []\n",
    "        self.obs_scores = []\n",
    "        self.vel_scores = []\n",
    "        self.scores     = []\n",
    "        \n",
    "    def calc_score(self, path, grid_map, goal):\n",
    "        self.calc_obs_score(path, grid_map)\n",
    "        self.calc_vel_score(path[0][3])\n",
    "        self.calc_ang_score(path[-1], goal[0], goal[1])\n",
    "        \n",
    "    def calc_obs_score(self, path, grid_map):\n",
    "        pass\n",
    "    \n",
    "    def calc_vel_score(self, v):\n",
    "        self.vel_scores.append(v)\n",
    "    \n",
    "    def calc_ang_score(self, last_status, g_x, g_y):\n",
    "        self.ang_scores.append(\n",
    "            math.pi-abs(\n",
    "                correction_ang(\n",
    "                    math.atan2(g_y-last_status[1], g_x-last_status[1]) - last_status[2]\n",
    "                )\n",
    "            )\n",
    "        )\n",
    "\n",
    "if __name__ == \"__main__\":\n",
    "    import csv\n",
    "    start = time.time()\n",
    "    cartbot = cb.main(0, 0, math.pi/2)\n",
    "    #LRFからのデータに変える\n",
    "    obstacles = [list((np.random.rand(2)-0.5)*10) for i in range(50)]\n",
    "    goal = [10, 10]\n",
    "    \n",
    "    for _ in range(1):\n",
    "        evals = Evaluator()\n",
    "        paths = mp.main(cartbot.status)\n",
    "        grid_map = gm.main(paths, obstacles)\n",
    "\n",
    "        for path in paths:\n",
    "            evals.calc_score(path, grid_map, goal)\n",
    "    finished = time.time()-start\n",
    "    print(finished)\n",
    "    \n",
    "    with open(\"gridmap.csv\", \"w\") as file:\n",
    "        write = csv.writer(file, lineterminator=\"\\n\")\n",
    "        write.writerows(grid_map)"
   ]
  },
  {
   "cell_type": "code",
   "execution_count": 19,
   "metadata": {},
   "outputs": [
    {
     "data": {
      "text/plain": [
       "[[-18.847742418634372, -10.799811945067372],\n",
       " [-6.784203274842154, 9.105153277803064],\n",
       " [-14.945796544250701, -11.51097753250832],\n",
       " [-14.005387018873822, 12.702937711227385],\n",
       " [24.28246341930192, -17.592246462144256],\n",
       " [-5.752280768503598, 5.712798968679006],\n",
       " [2.68750758903738, -12.7801317531898],\n",
       " [20.792519259677743, 12.69915689937759],\n",
       " [23.48885027269208, 18.332983146962217],\n",
       " [-3.1908109473414825, -0.7055922658647518],\n",
       " [2.4503575072829467, 23.821814015046446],\n",
       " [-19.889562226035125, 14.811842309839946],\n",
       " [13.322522401226106, 15.053730148654237],\n",
       " [-23.515011045743115, 14.924437412695003],\n",
       " [17.587219970141454, -6.576890195853736],\n",
       " [12.847859170693393, 6.276619038278425],\n",
       " [5.739032511020187, 10.306822639382156],\n",
       " [-9.76698025497244, 21.494234033498437],\n",
       " [-11.579792568204622, 21.212123155949502],\n",
       " [0.5296449544314352, -8.480382936588738],\n",
       " [-22.135602575233758, -16.68875032674486],\n",
       " [9.35369172849142, -21.558054961059515],\n",
       " [19.6065084748419, 23.937901823162978],\n",
       " [23.06500743310037, -18.228881509756867],\n",
       " [24.932886852671686, -24.851423172865143],\n",
       " [20.45995250525181, 20.331352917037606],\n",
       " [-23.841335642566424, 14.225609646592009],\n",
       " [16.984323150303826, -6.752731149789204],\n",
       " [-15.410463776043388, -9.578488087447418],\n",
       " [-10.968498700874013, 24.636708853684357],\n",
       " [-12.712105958202352, -10.626046651666016],\n",
       " [-13.580657585188721, -16.40026133380333],\n",
       " [4.663930942169725, 10.144104211011829],\n",
       " [8.04977510008964, -18.703364391081777],\n",
       " [1.2360435845320206, 18.585413940222818],\n",
       " [-12.97535782857458, -8.545962984184913],\n",
       " [-3.1691599492412736, -18.84991212673362],\n",
       " [-0.7241563760476244, -1.2145012583325898],\n",
       " [8.877571036151682, -21.910926123055248],\n",
       " [0.20429567026859496, 13.341326501434459],\n",
       " [24.81251966986473, -23.18959309310627],\n",
       " [4.138279114648319, 16.844860601352394],\n",
       " [4.3569614525913565, 14.439669314979609],\n",
       " [0.6694969033983811, -0.8923153570030096],\n",
       " [-1.9521742553483545, 10.781159698231235],\n",
       " [10.415058357237134, 22.240654657760157],\n",
       " [10.37179965507799, 23.930585048017182],\n",
       " [-17.17829574385276, -7.403276360664007],\n",
       " [-10.36480907400376, -12.385787368380491],\n",
       " [-15.760763672266759, 15.981276144724454]]"
      ]
     },
     "execution_count": 19,
     "metadata": {},
     "output_type": "execute_result"
    }
   ],
   "source": []
  },
  {
   "cell_type": "code",
   "execution_count": 34,
   "metadata": {},
   "outputs": [
    {
     "data": {
      "text/plain": [
       "array([[0, 1, 2, 3, 4],\n",
       "       [0, 1, 2, 3, 4],\n",
       "       [0, 1, 2, 3, 4],\n",
       "       [0, 1, 2, 3, 4],\n",
       "       [0, 1, 2, 3, 4]])"
      ]
     },
     "execution_count": 34,
     "metadata": {},
     "output_type": "execute_result"
    }
   ],
   "source": [
    "import numpy as np\n",
    "b = np.array(a)\n",
    "b[0:5,0:5]"
   ]
  },
  {
   "cell_type": "code",
   "execution_count": 33,
   "metadata": {},
   "outputs": [
    {
     "data": {
      "text/plain": [
       "array([[0, 1, 2, 3, 4, 5, 6, 7, 8, 9],\n",
       "       [0, 1, 2, 3, 4, 5, 6, 7, 8, 9],\n",
       "       [0, 1, 2, 3, 4, 5, 6, 7, 8, 9],\n",
       "       [0, 1, 2, 3, 4, 5, 6, 7, 8, 9],\n",
       "       [0, 1, 2, 3, 4, 5, 6, 7, 8, 9],\n",
       "       [0, 1, 2, 3, 4, 5, 6, 7, 8, 9],\n",
       "       [0, 1, 2, 3, 4, 5, 6, 7, 8, 9],\n",
       "       [0, 1, 2, 3, 4, 5, 6, 7, 8, 9],\n",
       "       [0, 1, 2, 3, 4, 5, 6, 7, 8, 9],\n",
       "       [0, 1, 2, 3, 4, 5, 6, 7, 8, 9]])"
      ]
     },
     "execution_count": 33,
     "metadata": {},
     "output_type": "execute_result"
    }
   ],
   "source": [
    "b"
   ]
  },
  {
   "cell_type": "code",
   "execution_count": null,
   "metadata": {},
   "outputs": [],
   "source": []
  }
 ],
 "metadata": {
  "kernelspec": {
   "display_name": "Python 3",
   "language": "python",
   "name": "python3"
  },
  "language_info": {
   "codemirror_mode": {
    "name": "ipython",
    "version": 3
   },
   "file_extension": ".py",
   "mimetype": "text/x-python",
   "name": "python",
   "nbconvert_exporter": "python",
   "pygments_lexer": "ipython3",
   "version": "3.6.5"
  }
 },
 "nbformat": 4,
 "nbformat_minor": 2
}
