{
 "cells": [
  {
   "cell_type": "code",
   "execution_count": 127,
   "metadata": {},
   "outputs": [],
   "source": [
    "#! /usr/bin/env python\n",
    "# -*- coding: utf-8 -*-\n",
    "\n",
    "import math\n",
    "from scipy.stats import norm\n",
    "\n",
    "AREA_SIZE = 10\n",
    "GRID_SIZE = 0.2\n",
    "ANGLE_RES = 3 * math.pi/180\n",
    "\n",
    "class precastDB:\n",
    "    def __init__(self, x_p, y_p, dist, angle, x_i, y_i):\n",
    "        self.x_p = x_p\n",
    "        self.y_p = y_p\n",
    "        self.dist = dist\n",
    "        self.angle = angle\n",
    "        self.x_i = x_i\n",
    "        self.y_i = y_i\n",
    "\n",
    "def atan_zero_to_twopi(x, y):\n",
    "    angle = math.atan2(y, x)\n",
    "    if angle < 0.0:\n",
    "        angle += 2*math.pi\n",
    "        \n",
    "    return angle\n",
    "\n",
    "def precasting(x_min, y_min, x_range, y_range):\n",
    "    precast = [[] for i in range(int(round(2*math.pi/ANGLE_RES))+1)]\n",
    "    \n",
    "    for x_i in range(x_range):\n",
    "        for y_i in range(y_range):\n",
    "            x_p = x_i * GRID_SIZE + x_min\n",
    "            y_p = y_i * GRID_SIZE + y_min\n",
    "            \n",
    "            dist = math.sqrt(x_p**2 + y_p**2)\n",
    "            angle = atan_zero_to_twopi(x_p, y_p)\n",
    "            angle_id = int(math.floor(angle/ANGLE_RES))\n",
    "            \n",
    "            pcd = precastDB(x_p, y_p, dist, angle, x_i, y_i)\n",
    "            \n",
    "            precast[angle_id].append(pcd)\n",
    "    return precast\n",
    "\n",
    "def calc_grid_map(obstacles):\n",
    "    obs_x = [obs[0] for obs in obstacles]\n",
    "    obs_y = [obs[1] for obs in obstacles]\n",
    "\n",
    "    x_min = round(min(obs_x) - AREA_SIZE/2.0)\n",
    "    y_min = round(min(obs_y) - AREA_SIZE/2.0)\n",
    "    x_max = round(max(obs_x) + AREA_SIZE/2.0)\n",
    "    y_max = round(max(obs_y) + AREA_SIZE/2.0)\n",
    "    x_range = int(round((x_max - x_min)/GRID_SIZE))\n",
    "    y_range = int(round((y_max - y_min)/GRID_SIZE))\n",
    "    \n",
    "    return x_min, y_min, x_range, y_range\n",
    "\n",
    "def ray_casting(obstacles):\n",
    "    x_min, y_min, x_range, y_range = calc_grid_map(obstacles)\n",
    "    precast = precasting(x_min, y_min, x_range, y_range)\n",
    "    grid_map = [[0.0 for i in range(y_range)] for i in range(x_range)]\n",
    "    obstacles_ids = []\n",
    "\n",
    "    for (x, y) in obstacles:        \n",
    "        dist = math.sqrt(x**2 + y**2)\n",
    "        angle = atan_zero_to_twopi(x, y)\n",
    "        angle_id = int(math.floor(angle/ANGLE_RES))\n",
    "        \n",
    "        grid_list = precast[angle_id]\n",
    "        \n",
    "        x_i = int(round((x-x_min)/GRID_SIZE))\n",
    "        y_i = int(round((y-y_min)/GRID_SIZE))\n",
    "        obstacles_ids.append([x_i, y_i])\n",
    "        \n",
    "        for grid in grid_list:\n",
    "            if grid.dist > dist:\n",
    "                if grid_map[grid.x_i][grid.y_i] < 1:\n",
    "                    grid_map[grid.x_i][grid.y_i] = 0.5\n",
    "        grid_map[x_i][y_i] = 1\n",
    "    return x_min, y_min, x_range, y_range, grid_map, obstacles_ids\n",
    "\n",
    "def main(paths, obstacles):\n",
    "    x_min, y_min, x_range, y_range, grid_map, obstacles_ids = ray_casting(obstacles)\n",
    "    \n",
    "    unique_obs_ids = set(list(map(tuple, obstacles_ids)))\n",
    "    \n",
    "    paths_ids = [\n",
    "        [[int(round((x-x_min)/GRID_SIZE)), int(round((y-y_min)/GRID_SIZE))] for (x, y, th, v, o) in path]\n",
    "        for path in paths\n",
    "    ]\n",
    "    unique_paths_ids = set(list(map(tuple, sum(paths_ids, []))))\n",
    "    \n",
    "    for (path_xid, path_yid) in unique_paths_ids:\n",
    "        min_dist = float(\"inf\")\n",
    "        for (obs_xid, obs_yid) in unique_obs_ids:\n",
    "            dist = math.sqrt((path_xid-obs_xid)**2 + (path_yid-obs_yid)**2)\n",
    "            if min_dist > dist:\n",
    "                min_dist = dist\n",
    "        grid_score = 1.0 - norm.cdf(min_dist, 0.0, 3.0)\n",
    "        grid_map[path_xid][path_yid] += grid_score\n",
    "    return grid_map\n",
    "    \n",
    "\n",
    "\n",
    "if __name__ == \"__main__\":\n",
    "    paths = [[[1, 1, math.pi/2, 0, 1],\n",
    "              [0, 1, math.pi/2, 1, 1],\n",
    "              [1.5, 2, math.pi/2, 0,1],\n",
    "              [1, 1, math.pi/2, 0, 1],\n",
    "              [0, 1, math.pi/2, 1, 1],\n",
    "              [1.5, 2, math.pi/2, 0,1]]]\n",
    "    obstacles = [[3,0],[10, 10]]\n",
    "    grid_map = main(paths, obstacles)"
   ]
  },
  {
   "cell_type": "code",
   "execution_count": 116,
   "metadata": {},
   "outputs": [],
   "source": []
  },
  {
   "cell_type": "code",
   "execution_count": 126,
   "metadata": {},
   "outputs": [
    {
     "data": {
      "text/plain": [
       "[[15, 30], [10, 30], [18, 35], [15, 30], [10, 30], [18, 35], [1, 1], [2, 2]]"
      ]
     },
     "execution_count": 126,
     "metadata": {},
     "output_type": "execute_result"
    }
   ],
   "source": [
    "paths_ids = [[[15, 30], [10, 30], [18, 35], [15, 30], [10, 30], [18, 35]],[[1,1],[2,2]]]\n"
   ]
  },
  {
   "cell_type": "code",
   "execution_count": 13,
   "metadata": {},
   "outputs": [
    {
     "data": {
      "text/plain": [
       "[[-20, -4], [-25, -4]]"
      ]
     },
     "execution_count": 13,
     "metadata": {},
     "output_type": "execute_result"
    }
   ],
   "source": [
    "x_min = int(AREA_SIZE/2.0)\n",
    "y_min = int(AREA_SIZE/2.0)\n",
    "[[int(round((path[0]-x_min)/GRID_SIZE)),int(round((path[1]-y_min)))] for path in paths]"
   ]
  },
  {
   "cell_type": "code",
   "execution_count": null,
   "metadata": {},
   "outputs": [],
   "source": []
  }
 ],
 "metadata": {
  "kernelspec": {
   "display_name": "Python 3",
   "language": "python",
   "name": "python3"
  },
  "language_info": {
   "codemirror_mode": {
    "name": "ipython",
    "version": 3
   },
   "file_extension": ".py",
   "mimetype": "text/x-python",
   "name": "python",
   "nbconvert_exporter": "python",
   "pygments_lexer": "ipython3",
   "version": "3.6.5"
  }
 },
 "nbformat": 4,
 "nbformat_minor": 2
}
